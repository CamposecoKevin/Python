{
 "cells": [
  {
   "cell_type": "code",
   "execution_count": 23,
   "metadata": {},
   "outputs": [],
   "source": [
    "import pandas as pd\n",
    "import yfinance as yf\n",
    "import matplotlib as mp\n"
   ]
  },
  {
   "cell_type": "code",
   "execution_count": 4,
   "metadata": {},
   "outputs": [],
   "source": [
    "apple= yf.Ticker(\"AAPL\")"
   ]
  },
  {
   "cell_type": "code",
   "execution_count": 7,
   "metadata": {},
   "outputs": [
    {
     "data": {
      "text/plain": [
       "yfinance.Ticker object <AAPL>"
      ]
     },
     "execution_count": 7,
     "metadata": {},
     "output_type": "execute_result"
    }
   ],
   "source": [
    "apple"
   ]
  },
  {
   "cell_type": "code",
   "execution_count": 8,
   "metadata": {},
   "outputs": [],
   "source": [
    "apple_info = apple.info"
   ]
  },
  {
   "cell_type": "code",
   "execution_count": null,
   "metadata": {},
   "outputs": [],
   "source": [
    "apple_info"
   ]
  },
  {
   "cell_type": "code",
   "execution_count": 10,
   "metadata": {},
   "outputs": [
    {
     "name": "stdout",
     "output_type": "stream",
     "text": [
      "                                 Open        High         Low       Close  \\\n",
      "Date                                                                        \n",
      "1980-12-12 00:00:00-05:00    0.099450    0.099882    0.099450    0.099450   \n",
      "1980-12-15 00:00:00-05:00    0.094694    0.094694    0.094261    0.094261   \n",
      "1980-12-16 00:00:00-05:00    0.087775    0.087775    0.087343    0.087343   \n",
      "1980-12-17 00:00:00-05:00    0.089504    0.089937    0.089504    0.089504   \n",
      "1980-12-18 00:00:00-05:00    0.092099    0.092532    0.092099    0.092099   \n",
      "...                               ...         ...         ...         ...   \n",
      "2023-10-17 00:00:00-04:00  176.649994  178.419998  174.800003  177.149994   \n",
      "2023-10-18 00:00:00-04:00  175.580002  177.580002  175.110001  175.839996   \n",
      "2023-10-19 00:00:00-04:00  176.039993  177.839996  175.190002  175.460007   \n",
      "2023-10-20 00:00:00-04:00  175.309998  175.419998  172.639999  172.880005   \n",
      "2023-10-23 00:00:00-04:00  170.910004  174.009995  169.940002  173.000000   \n",
      "\n",
      "                              Volume  Dividends  Stock Splits  \n",
      "Date                                                           \n",
      "1980-12-12 00:00:00-05:00  469033600        0.0           0.0  \n",
      "1980-12-15 00:00:00-05:00  175884800        0.0           0.0  \n",
      "1980-12-16 00:00:00-05:00  105728000        0.0           0.0  \n",
      "1980-12-17 00:00:00-05:00   86441600        0.0           0.0  \n",
      "1980-12-18 00:00:00-05:00   73449600        0.0           0.0  \n",
      "...                              ...        ...           ...  \n",
      "2023-10-17 00:00:00-04:00   57549400        0.0           0.0  \n",
      "2023-10-18 00:00:00-04:00   54764400        0.0           0.0  \n",
      "2023-10-19 00:00:00-04:00   59302900        0.0           0.0  \n",
      "2023-10-20 00:00:00-04:00   64189300        0.0           0.0  \n",
      "2023-10-23 00:00:00-04:00   55856506        0.0           0.0  \n",
      "\n",
      "[10806 rows x 7 columns]\n"
     ]
    }
   ],
   "source": [
    "historico_apple = apple.history(period=\"max\")\n",
    "print(historico_apple)"
   ]
  },
  {
   "cell_type": "code",
   "execution_count": 15,
   "metadata": {},
   "outputs": [
    {
     "data": {
      "text/html": [
       "<div>\n",
       "<style scoped>\n",
       "    .dataframe tbody tr th:only-of-type {\n",
       "        vertical-align: middle;\n",
       "    }\n",
       "\n",
       "    .dataframe tbody tr th {\n",
       "        vertical-align: top;\n",
       "    }\n",
       "\n",
       "    .dataframe thead th {\n",
       "        text-align: right;\n",
       "    }\n",
       "</style>\n",
       "<table border=\"1\" class=\"dataframe\">\n",
       "  <thead>\n",
       "    <tr style=\"text-align: right;\">\n",
       "      <th></th>\n",
       "      <th>Open</th>\n",
       "      <th>High</th>\n",
       "      <th>Low</th>\n",
       "      <th>Close</th>\n",
       "      <th>Volume</th>\n",
       "      <th>Dividends</th>\n",
       "      <th>Stock Splits</th>\n",
       "    </tr>\n",
       "    <tr>\n",
       "      <th>Date</th>\n",
       "      <th></th>\n",
       "      <th></th>\n",
       "      <th></th>\n",
       "      <th></th>\n",
       "      <th></th>\n",
       "      <th></th>\n",
       "      <th></th>\n",
       "    </tr>\n",
       "  </thead>\n",
       "  <tbody>\n",
       "    <tr>\n",
       "      <th>2023-10-17 00:00:00-04:00</th>\n",
       "      <td>176.649994</td>\n",
       "      <td>178.419998</td>\n",
       "      <td>174.800003</td>\n",
       "      <td>177.149994</td>\n",
       "      <td>57549400</td>\n",
       "      <td>0.0</td>\n",
       "      <td>0.0</td>\n",
       "    </tr>\n",
       "    <tr>\n",
       "      <th>2023-10-18 00:00:00-04:00</th>\n",
       "      <td>175.580002</td>\n",
       "      <td>177.580002</td>\n",
       "      <td>175.110001</td>\n",
       "      <td>175.839996</td>\n",
       "      <td>54764400</td>\n",
       "      <td>0.0</td>\n",
       "      <td>0.0</td>\n",
       "    </tr>\n",
       "    <tr>\n",
       "      <th>2023-10-19 00:00:00-04:00</th>\n",
       "      <td>176.039993</td>\n",
       "      <td>177.839996</td>\n",
       "      <td>175.190002</td>\n",
       "      <td>175.460007</td>\n",
       "      <td>59302900</td>\n",
       "      <td>0.0</td>\n",
       "      <td>0.0</td>\n",
       "    </tr>\n",
       "    <tr>\n",
       "      <th>2023-10-20 00:00:00-04:00</th>\n",
       "      <td>175.309998</td>\n",
       "      <td>175.419998</td>\n",
       "      <td>172.639999</td>\n",
       "      <td>172.880005</td>\n",
       "      <td>64189300</td>\n",
       "      <td>0.0</td>\n",
       "      <td>0.0</td>\n",
       "    </tr>\n",
       "    <tr>\n",
       "      <th>2023-10-23 00:00:00-04:00</th>\n",
       "      <td>170.910004</td>\n",
       "      <td>174.009995</td>\n",
       "      <td>169.940002</td>\n",
       "      <td>173.000000</td>\n",
       "      <td>55856506</td>\n",
       "      <td>0.0</td>\n",
       "      <td>0.0</td>\n",
       "    </tr>\n",
       "  </tbody>\n",
       "</table>\n",
       "</div>"
      ],
      "text/plain": [
       "                                 Open        High         Low       Close  \\\n",
       "Date                                                                        \n",
       "2023-10-17 00:00:00-04:00  176.649994  178.419998  174.800003  177.149994   \n",
       "2023-10-18 00:00:00-04:00  175.580002  177.580002  175.110001  175.839996   \n",
       "2023-10-19 00:00:00-04:00  176.039993  177.839996  175.190002  175.460007   \n",
       "2023-10-20 00:00:00-04:00  175.309998  175.419998  172.639999  172.880005   \n",
       "2023-10-23 00:00:00-04:00  170.910004  174.009995  169.940002  173.000000   \n",
       "\n",
       "                             Volume  Dividends  Stock Splits  \n",
       "Date                                                          \n",
       "2023-10-17 00:00:00-04:00  57549400        0.0           0.0  \n",
       "2023-10-18 00:00:00-04:00  54764400        0.0           0.0  \n",
       "2023-10-19 00:00:00-04:00  59302900        0.0           0.0  \n",
       "2023-10-20 00:00:00-04:00  64189300        0.0           0.0  \n",
       "2023-10-23 00:00:00-04:00  55856506        0.0           0.0  "
      ]
     },
     "execution_count": 15,
     "metadata": {},
     "output_type": "execute_result"
    }
   ],
   "source": [
    "historico_apple.tail()"
   ]
  },
  {
   "cell_type": "code",
   "execution_count": 16,
   "metadata": {},
   "outputs": [],
   "source": [
    "historico_apple.reset_index(inplace=True)"
   ]
  },
  {
   "cell_type": "code",
   "execution_count": null,
   "metadata": {},
   "outputs": [],
   "source": [
    "historico_apple.plot(x=\"Date\", y=\"Close\")"
   ]
  },
  {
   "cell_type": "code",
   "execution_count": null,
   "metadata": {},
   "outputs": [],
   "source": [
    "%pip install matplotlib"
   ]
  },
  {
   "cell_type": "code",
   "execution_count": 24,
   "metadata": {},
   "outputs": [
    {
     "data": {
      "text/plain": [
       "Date\n",
       "1987-05-11 00:00:00-04:00    0.000536\n",
       "1987-08-10 00:00:00-04:00    0.000536\n",
       "1987-11-17 00:00:00-05:00    0.000714\n",
       "1988-02-12 00:00:00-05:00    0.000714\n",
       "1988-05-16 00:00:00-04:00    0.000714\n",
       "                               ...   \n",
       "2022-08-05 00:00:00-04:00    0.230000\n",
       "2022-11-04 00:00:00-04:00    0.230000\n",
       "2023-02-10 00:00:00-05:00    0.230000\n",
       "2023-05-12 00:00:00-04:00    0.240000\n",
       "2023-08-11 00:00:00-04:00    0.240000\n",
       "Name: Dividends, Length: 80, dtype: float64"
      ]
     },
     "execution_count": 24,
     "metadata": {},
     "output_type": "execute_result"
    }
   ],
   "source": [
    "apple.dividends"
   ]
  },
  {
   "cell_type": "code",
   "execution_count": 25,
   "metadata": {},
   "outputs": [
    {
     "data": {
      "text/plain": [
       "<Axes: xlabel='Date'>"
      ]
     },
     "execution_count": 25,
     "metadata": {},
     "output_type": "execute_result"
    },
    {
     "data": {
      "image/png": "[encoded data removed]",
      "text/plain": [
       "<Figure size 640x480 with 1 Axes>"
      ]
     },
     "metadata": {},
     "output_type": "display_data"
    }
   ],
   "source": [
    "apple.dividends.plot()"
   ]
  }
 ],
 "metadata": {
  "kernelspec": {
   "display_name": "cursopy",
   "language": "python",
   "name": "python3"
  },
  "language_info": {
   "codemirror_mode": {
    "name": "ipython",
    "version": 3
   },
   "file_extension": ".py",
   "mimetype": "text/x-python",
   "name": "python",
   "nbconvert_exporter": "python",
   "pygments_lexer": "ipython3",
   "version": "3.11.6"
  }
 },
 "nbformat": 4,
 "nbformat_minor": 2
}
